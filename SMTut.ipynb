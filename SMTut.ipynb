
{
 "cells": [
  {
   "cell_type": "markdown",
   "metadata": {},
   "source": [
    "## Linear Regressions with StatsModels"
   ]
  },
  {
   "cell_type": "markdown",
   "metadata": {},
   "source": [